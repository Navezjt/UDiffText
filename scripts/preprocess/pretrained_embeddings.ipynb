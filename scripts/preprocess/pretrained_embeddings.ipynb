{
 "cells": [
  {
   "cell_type": "code",
   "execution_count": 30,
   "metadata": {},
   "outputs": [],
   "source": [
    "import torch\n",
    "import string\n",
    "from sgm.util import instantiate_from_config\n",
    "from safetensors.torch import save_file as save_safetensors"
   ]
  },
  {
   "cell_type": "code",
   "execution_count": 31,
   "metadata": {},
   "outputs": [],
   "source": [
    "openclip_config = {\n",
    "    'target': 'sgm.modules.encoders.modules.FrozenOpenCLIPEmbedder',\n",
    "    'params':\n",
    "        {   'arch': 'ViT-H-14',\n",
    "            'version': '../../checkpoints/encoders/OpenCLIP/ViT-H-14/open_clip_pytorch_model.bin',\n",
    "            'layer': 'penultimate',\n",
    "        }\n",
    "}"
   ]
  },
  {
   "cell_type": "code",
   "execution_count": 32,
   "metadata": {},
   "outputs": [],
   "source": [
    "openclip = instantiate_from_config(openclip_config)"
   ]
  },
  {
   "cell_type": "code",
   "execution_count": 33,
   "metadata": {},
   "outputs": [
    {
     "data": {
      "text/plain": [
       "'0123456789abcdefghijklmnopqrstuvwxyzABCDEFGHIJKLMNOPQRSTUVWXYZ!\"#$%&\\'()*+,-./:;<=>?@[\\\\]^_`{|}~'"
      ]
     },
     "execution_count": 33,
     "metadata": {},
     "output_type": "execute_result"
    }
   ],
   "source": [
    "chars = string.printable[:-6]\n",
    "chars"
   ]
  },
  {
   "cell_type": "code",
   "execution_count": 17,
   "metadata": {},
   "outputs": [
    {
     "data": {
      "text/plain": [
       "[\"the number '0'\",\n",
       " \"the number '1'\",\n",
       " \"the number '2'\",\n",
       " \"the number '3'\",\n",
       " \"the number '4'\",\n",
       " \"the number '5'\",\n",
       " \"the number '6'\",\n",
       " \"the number '7'\",\n",
       " \"the number '8'\",\n",
       " \"the number '9'\",\n",
       " \"the letter 'a'\",\n",
       " \"the letter 'b'\",\n",
       " \"the letter 'c'\",\n",
       " \"the letter 'd'\",\n",
       " \"the letter 'e'\",\n",
       " \"the letter 'f'\",\n",
       " \"the letter 'g'\",\n",
       " \"the letter 'h'\",\n",
       " \"the letter 'i'\",\n",
       " \"the letter 'j'\",\n",
       " \"the letter 'k'\",\n",
       " \"the letter 'l'\",\n",
       " \"the letter 'm'\",\n",
       " \"the letter 'n'\",\n",
       " \"the letter 'o'\",\n",
       " \"the letter 'p'\",\n",
       " \"the letter 'q'\",\n",
       " \"the letter 'r'\",\n",
       " \"the letter 's'\",\n",
       " \"the letter 't'\",\n",
       " \"the letter 'u'\",\n",
       " \"the letter 'v'\",\n",
       " \"the letter 'w'\",\n",
       " \"the letter 'x'\",\n",
       " \"the letter 'y'\",\n",
       " \"the letter 'z'\",\n",
       " \"the letter 'A'\",\n",
       " \"the letter 'B'\",\n",
       " \"the letter 'C'\",\n",
       " \"the letter 'D'\",\n",
       " \"the letter 'E'\",\n",
       " \"the letter 'F'\",\n",
       " \"the letter 'G'\",\n",
       " \"the letter 'H'\",\n",
       " \"the letter 'I'\",\n",
       " \"the letter 'J'\",\n",
       " \"the letter 'K'\",\n",
       " \"the letter 'L'\",\n",
       " \"the letter 'M'\",\n",
       " \"the letter 'N'\",\n",
       " \"the letter 'O'\",\n",
       " \"the letter 'P'\",\n",
       " \"the letter 'Q'\",\n",
       " \"the letter 'R'\",\n",
       " \"the letter 'S'\",\n",
       " \"the letter 'T'\",\n",
       " \"the letter 'U'\",\n",
       " \"the letter 'V'\",\n",
       " \"the letter 'W'\",\n",
       " \"the letter 'X'\",\n",
       " \"the letter 'Y'\",\n",
       " \"the letter 'Z'\"]"
      ]
     },
     "execution_count": 17,
     "metadata": {},
     "output_type": "execute_result"
    }
   ],
   "source": [
    "prompts = [f\"the number \\'{num}\\'\" for num in chars[:10]] + [f\"the letter \\'{ch}\\'\" for ch in chars[10:10+26*2]]\n",
    "prompts"
   ]
  },
  {
   "cell_type": "code",
   "execution_count": 34,
   "metadata": {},
   "outputs": [
    {
     "data": {
      "text/plain": [
       "torch.Size([62, 1024])"
      ]
     },
     "execution_count": 34,
     "metadata": {},
     "output_type": "execute_result"
    }
   ],
   "source": [
    "openclip_embeddings = openclip.encode(prompts)\n",
    "openclip_embeddings = openclip_embeddings[:,4,:]\n",
    "openclip_embeddings.shape"
   ]
  },
  {
   "cell_type": "code",
   "execution_count": 35,
   "metadata": {},
   "outputs": [
    {
     "data": {
      "text/plain": [
       "torch.Size([32, 1024])"
      ]
     },
     "execution_count": 35,
     "metadata": {},
     "output_type": "execute_result"
    }
   ],
   "source": [
    "front_paddings = torch.randn((1, 1024))\n",
    "back_paddings = torch.randn((len(chars)-62, 1024))\n",
    "back_paddings.shape"
   ]
  },
  {
   "cell_type": "code",
   "execution_count": 36,
   "metadata": {},
   "outputs": [
    {
     "data": {
      "text/plain": [
       "torch.Size([95, 1024])"
      ]
     },
     "execution_count": 36,
     "metadata": {},
     "output_type": "execute_result"
    }
   ],
   "source": [
    "embeddings = torch.cat([front_paddings, openclip_embeddings, back_paddings], dim=0)\n",
    "embeddings.shape"
   ]
  },
  {
   "cell_type": "code",
   "execution_count": 37,
   "metadata": {},
   "outputs": [],
   "source": [
    "save_safetensors({\"embeddings\": embeddings}, \"../../checkpoints/encoders/SimpleLabel/pretrained.safetensors\")"
   ]
  }
 ],
 "metadata": {
  "kernelspec": {
   "display_name": "sdxl",
   "language": "python",
   "name": "python3"
  },
  "language_info": {
   "codemirror_mode": {
    "name": "ipython",
    "version": 3
   },
   "file_extension": ".py",
   "mimetype": "text/x-python",
   "name": "python",
   "nbconvert_exporter": "python",
   "pygments_lexer": "ipython3",
   "version": "3.11.4"
  },
  "orig_nbformat": 4
 },
 "nbformat": 4,
 "nbformat_minor": 2
}

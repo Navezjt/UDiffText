{
 "cells": [
  {
   "cell_type": "code",
   "execution_count": 1,
   "metadata": {},
   "outputs": [],
   "source": [
    "import os,glob,sys\n",
    "import zipfile\n",
    "import json\n",
    "import requests\n",
    "from tqdm import tqdm\n",
    "from os.path import join as ospj"
   ]
  },
  {
   "cell_type": "code",
   "execution_count": 4,
   "metadata": {},
   "outputs": [],
   "source": [
    "data_root = \"/data/zhaoym/TextDesign-XL/TextSeg\"\n",
    "image_root = ospj(data_root, \"image\")\n",
    "anno_root = ospj(data_root, \"annotation\")\n",
    "train_root = ospj(data_root, \"train\")\n",
    "val_root = ospj(data_root, \"val\")\n",
    "os.makedirs(train_root, exist_ok=True)\n",
    "os.makedirs(val_root, exist_ok=True)\n",
    "os.makedirs(ospj(train_root, \"image\"), exist_ok=True)\n",
    "os.makedirs(ospj(val_root, \"image\"), exist_ok=True)\n",
    "os.makedirs(ospj(train_root, \"annotation\"), exist_ok=True)\n",
    "os.makedirs(ospj(val_root, \"annotation\"), exist_ok=True)"
   ]
  },
  {
   "cell_type": "code",
   "execution_count": 11,
   "metadata": {},
   "outputs": [
    {
     "data": {
      "text/plain": [
       "340"
      ]
     },
     "execution_count": 11,
     "metadata": {},
     "output_type": "execute_result"
    }
   ],
   "source": [
    "with open(ospj(data_root, \"split.json\"), \"rb\") as fp:\n",
    "    sp = json.load(fp)\n",
    "len(sp[\"val\"])"
   ]
  },
  {
   "cell_type": "code",
   "execution_count": 13,
   "metadata": {},
   "outputs": [
    {
     "name": "stderr",
     "output_type": "stream",
     "text": [
      "100%|██████████| 4024/4024 [00:00<00:00, 13823.48it/s]"
     ]
    },
    {
     "name": "stdout",
     "output_type": "stream",
     "text": [
      "div 3684 train samples and 340 val samples\n"
     ]
    },
    {
     "name": "stderr",
     "output_type": "stream",
     "text": [
      "\n"
     ]
    }
   ],
   "source": [
    "img_paths = sorted(glob.glob(ospj(image_root, \"*.jpg\")))\n",
    "\n",
    "train_total = 0\n",
    "val_total = 0\n",
    "for img_path in tqdm(img_paths):\n",
    "    name = img_path.split(os.sep)[-1].split(\".\")[0]\n",
    "    anno_path = ospj(anno_root, f\"{name}_anno.json\")\n",
    "    mask_path = ospj(anno_root, f\"{name}_mask.png\")\n",
    "\n",
    "    if name in sp[\"train\"] + sp[\"test\"]:\n",
    "        train_total += 1\n",
    "        os.rename(img_path, ospj(train_root, \"image\", f\"{name}.jpg\"))\n",
    "        os.rename(anno_path, ospj(train_root, \"annotation\", f\"{name}_anno.json\"))\n",
    "        os.rename(mask_path, ospj(train_root, \"annotation\", f\"{name}_mask.png\"))\n",
    "    elif name in sp[\"val\"]:\n",
    "        val_total += 1\n",
    "        os.rename(img_path, ospj(val_root, \"image\", f\"{name}.jpg\"))\n",
    "        os.rename(anno_path, ospj(val_root, \"annotation\", f\"{name}_anno.json\"))\n",
    "        os.rename(mask_path, ospj(val_root, \"annotation\", f\"{name}_mask.png\"))\n",
    "\n",
    "print(f\"div {train_total} train samples and {val_total} val samples\")"
   ]
  },
  {
   "cell_type": "code",
   "execution_count": null,
   "metadata": {},
   "outputs": [],
   "source": []
  }
 ],
 "metadata": {
  "kernelspec": {
   "display_name": "sdxl",
   "language": "python",
   "name": "python3"
  },
  "language_info": {
   "codemirror_mode": {
    "name": "ipython",
    "version": 3
   },
   "file_extension": ".py",
   "mimetype": "text/x-python",
   "name": "python",
   "nbconvert_exporter": "python",
   "pygments_lexer": "ipython3",
   "version": "3.11.4"
  },
  "orig_nbformat": 4
 },
 "nbformat": 4,
 "nbformat_minor": 2
}
